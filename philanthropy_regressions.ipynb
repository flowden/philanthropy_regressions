{
 "cells": [
  {
   "cell_type": "markdown",
   "id": "452ee96c",
   "metadata": {},
   "source": [
    "# Philanthropy Regressions\n",
    "### Finnian Lowden"
   ]
  },
  {
   "cell_type": "code",
   "execution_count": 1,
   "id": "1424f37f",
   "metadata": {},
   "outputs": [],
   "source": [
    "### Data dictionary\n",
    "\n",
    "# Variable               Type       Description\n",
    "# Grantmaker_name        String     Corporation/foundation that gave grant\n",
    "# Year                   Float      Year grant was given\n",
    "# Recipient_name         String     Organization that recived grant\n",
    "# NTEE_code              String     NTEE code of organization given grant\n",
    "# NTEE_category          String     Broader category of organization according to IRS\n",
    "# Grant Amount           Float      Grant amount adjusted for inflation to 2020 dollars\n",
    "# Recipient_city         String     City of recipient organization\n",
    "# Recipient_state        String     State of recipient organization"
   ]
  },
  {
   "cell_type": "code",
   "execution_count": 3,
   "id": "d4ccb936",
   "metadata": {},
   "outputs": [
    {
     "name": "stderr",
     "output_type": "stream",
     "text": [
      "[nltk_data] Downloading package stopwords to\n",
      "[nltk_data]     /Users/finnianlowden/nltk_data...\n",
      "[nltk_data]   Package stopwords is already up-to-date!\n"
     ]
    },
    {
     "data": {
      "text/plain": [
       "True"
      ]
     },
     "execution_count": 3,
     "metadata": {},
     "output_type": "execute_result"
    }
   ],
   "source": [
    "### Imports\n",
    "\n",
    "import pandas as pd\n",
    "import numpy as np\n",
    "import matplotlib.pyplot as plt\n",
    "import random\n",
    "import statsmodels.api as sm\n",
    "from statsmodels.iolib.summary2 import summary_col\n",
    "\n",
    "from sklearn.model_selection import train_test_split\n",
    "from sklearn.linear_model import Lasso, LassoCV\n",
    "from sklearn.linear_model import Ridge, RidgeCV\n",
    "from sklearn.preprocessing import normalize\n",
    "import scipy.cluster.hierarchy as shc\n",
    "from sklearn.cluster import AgglomerativeClustering\n",
    "from sklearn.cluster import KMeans\n",
    "from sklearn.decomposition import PCA\n",
    "\n",
    "from sklearn.linear_model import LogisticRegression\n",
    "from sklearn.metrics import classification_report, confusion_matrix\n",
    "from sklearn.neural_network import MLPClassifier\n",
    "from sklearn.metrics import accuracy_score\n",
    "from sklearn.preprocessing import StandardScaler\n",
    "\n",
    "import nltk\n",
    "from nltk.corpus import stopwords # Importing stop words (e.g., the, and, a, of, etc.)\n",
    "nltk.download('stopwords')"
   ]
  },
  {
   "cell_type": "code",
   "execution_count": 10,
   "id": "2c46f5ed",
   "metadata": {},
   "outputs": [],
   "source": [
    "### Importing data\n",
    "\n",
    "# The dataset is large, so it takes a little while\n",
    "complete_donations_df = pd.read_excel(\"Oil_corporations_NTEE_Data_MASTER_SHEET.xlsx\", sheet_name = \"Individual_donations\")\n",
    "complete_text_df = pd.read_excel(\"dod_prop_match.xlsx\", sheet_name = \"Fossil fuel solutionism\")"
   ]
  },
  {
   "cell_type": "code",
   "execution_count": 8,
   "id": "b659f014",
   "metadata": {},
   "outputs": [],
   "source": [
    "### Formatting dataframes\n",
    "\n",
    "# Working with corporate philanthropy data\n",
    "# Dropping irrelevant columns (those not in data dictionary)\n",
    "donations_df = complete_donations_df[[\"grantmaker_name\", \"year\", \"recipient_name\", \"NTEE_code\",\n",
    "                                      \"NTEE_category\", \"Grant Amount (2020 Dollars)\",\n",
    "                                      \"recipient_city\", \"recipient_state\"]]\n",
    "\n",
    "# Renaming Grant Amount (2020 Dollars) to not include spaces\n",
    "donations_df = donations_df.rename(columns = {\"Grant Amount (2020 Dollars)\": \"grant_amount\"})\n",
    "        \n",
    "# Checking to make sure changes were made\n",
    "# donations_df.head()\n",
    "\n",
    "\n",
    "# Working with text analysis data\n",
    "# Dropping irrelevant columns from data\n"
   ]
  },
  {
   "cell_type": "code",
   "execution_count": null,
   "id": "20462583",
   "metadata": {},
   "outputs": [],
   "source": []
  }
 ],
 "metadata": {
  "kernelspec": {
   "display_name": "Python 3 (ipykernel)",
   "language": "python",
   "name": "python3"
  },
  "language_info": {
   "codemirror_mode": {
    "name": "ipython",
    "version": 3
   },
   "file_extension": ".py",
   "mimetype": "text/x-python",
   "name": "python",
   "nbconvert_exporter": "python",
   "pygments_lexer": "ipython3",
   "version": "3.9.7"
  }
 },
 "nbformat": 4,
 "nbformat_minor": 5
}
